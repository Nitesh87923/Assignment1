{
 "cells": [
  {
   "cell_type": "code",
   "execution_count": 1,
   "id": "2ef4f614-b48e-4e37-8877-d881baf1f8ec",
   "metadata": {},
   "outputs": [],
   "source": [
    "#1\n",
    "#Database is the collection of organized data that is structured or unstructured. The database's primary goal is to store a huge amount of data\n",
    "#SQL(structured query language)---------------------NoSQL(not only structured query language)\n",
    "#SQL databases display data in form                 NoSQL databases display data as collection of key-value pair, \n",
    "#of tables so it is known as                        documents, graph databases or wide-column stores\n",
    "#table-based database\n",
    "\n",
    "#SQL databases are best suited for                  NoSQL databases are not so good for complex queries because these are not as \n",
    "#complex queries                                    powerful as SQL queries\n",
    "\n",
    "#MySQL, Oracle, Sqlite, PostgreSQL and              MongoDB, BigTable, Redis, RavenDB, Cassandra, Hbase, Neo4j, \n",
    "#MS-SQL etc. are the example of SQL database        CouchDB etc. are the example of nosql database"
   ]
  },
  {
   "cell_type": "code",
   "execution_count": 2,
   "id": "398c53d2-d83f-48ee-868a-7ff79c6dccb9",
   "metadata": {},
   "outputs": [],
   "source": [
    "#2\n",
    "#Data definition language (DDL) describes the portion of SQL that creates, alters, and deletes database objects\n",
    "#Create-->This command is used to create table\n",
    "#Ex:\n",
    "#create table emp{\n",
    "#empid int,\n",
    "#emp_name varchar(20) \n",
    "#};\n",
    "\n",
    "#Alter-->This command is used to rename table,column name,add new column,delete a column,modify datatype of a column etc.\n",
    "#Ex(Assuming emp table is already created)\n",
    "#alter table emp add address varchar(30);\n",
    "#alter table rename column empid to employee_id;\n",
    "\n",
    "#Drop-->This command is used to delete entire table\n",
    "#drop table emp\n",
    "\n",
    "#Truncate-->This command is used to remove all the rows of a table\n",
    "#truncate table emp\n",
    "\n"
   ]
  },
  {
   "cell_type": "code",
   "execution_count": 3,
   "id": "a5a424ce-46e9-4b7d-81af-4adb96996d12",
   "metadata": {},
   "outputs": [],
   "source": [
    "#3\n",
    "#DML(Data Manipulation language) helps us deal with managing and manipulating data in the database\n",
    "#Insert-->It is used to data into the table\n",
    "#Ex\n",
    "#insert into emp (empid,emp_name) values (97,\"hari\");\n",
    "#insert into emp values (101,\"raju\"),(105,\"ritvik\");\n",
    "\n",
    "#Update-->it is used to modify pre-existing data\n",
    "#Ex\n",
    "#update emp set empid=99 where emp_name=\"raju\"\n",
    "\n",
    "#Delete-->Its used to delete a specific row of the table \n",
    "#Ex\n",
    "#delete from emp where empid=99"
   ]
  },
  {
   "cell_type": "code",
   "execution_count": 4,
   "id": "75dca94e-cd05-4e12-8b03-0610b9d83b46",
   "metadata": {},
   "outputs": [],
   "source": [
    "#4\n",
    "#DQL(Data Query Language) is used to retrieve information from the database\n",
    "#Select-->Its used to select a record from the table\n",
    "#Ex\n",
    "#select * from emp where empid=105"
   ]
  },
  {
   "cell_type": "code",
   "execution_count": 5,
   "id": "284bee0f-34d5-4e06-a0c3-620846a5c9bb",
   "metadata": {},
   "outputs": [],
   "source": [
    "#5\n",
    "#Primary key-->This is a unique key which is used to access any record in particular\n",
    "#Foreign key-->A Foreign Key is a field (or collection of fields) in one table, that refers to the Primary key in another table"
   ]
  },
  {
   "cell_type": "code",
   "execution_count": 7,
   "id": "151f7e90-c0d7-497b-963b-e44784b31051",
   "metadata": {},
   "outputs": [],
   "source": [
    "#import mysql.connector\n",
    "#mydb=mysql.connector.connect(host='localhost',user='root',password='admin')"
   ]
  },
  {
   "cell_type": "code",
   "execution_count": null,
   "id": "205ecfc5-6470-4b48-be99-386913d5d827",
   "metadata": {},
   "outputs": [],
   "source": [
    "#7\n",
    "#FROM/JOIN\n",
    "#WHERE\n",
    "#GROUP BY\n",
    "#HAVING\n",
    "#SELECT\n",
    "#ORDER BY\n",
    "#LIMIT/OFFSET"
   ]
  },
  {
   "cell_type": "code",
   "execution_count": null,
   "id": "6e15e595-7a87-405e-8191-29b4be49d894",
   "metadata": {},
   "outputs": [],
   "source": []
  }
 ],
 "metadata": {
  "kernelspec": {
   "display_name": "Python 3 (ipykernel)",
   "language": "python",
   "name": "python3"
  },
  "language_info": {
   "codemirror_mode": {
    "name": "ipython",
    "version": 3
   },
   "file_extension": ".py",
   "mimetype": "text/x-python",
   "name": "python",
   "nbconvert_exporter": "python",
   "pygments_lexer": "ipython3",
   "version": "3.10.6"
  }
 },
 "nbformat": 4,
 "nbformat_minor": 5
}
