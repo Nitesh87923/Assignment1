{
 "cells": [
  {
   "cell_type": "code",
   "execution_count": null,
   "id": "de64d558-f9fe-433e-8c00-3eb3ae008e35",
   "metadata": {},
   "outputs": [],
   "source": [
    "#1\n",
    "#open()\n",
    "#differnt modes to open a file\n",
    "#r-->opening in read mode\n",
    "#w-->opening in write mode,truncates the file and helps to rewrite the file\n",
    "#a-->opening to write without making in changes \n",
    "#x-->creates new file for writing if file already exixts raises error\n",
    "#b-->binary mode\n"
   ]
  },
  {
   "cell_type": "code",
   "execution_count": 5,
   "id": "3f7bc2ff-d6c4-4c57-828a-8e928c3ba681",
   "metadata": {},
   "outputs": [],
   "source": [
    "#2\n",
    "#close function helps to close the file,its imp as whatever we write into the file will not be updated until we close the file\n"
   ]
  },
  {
   "cell_type": "code",
   "execution_count": 6,
   "id": "1da3f2d8-086c-4655-a43b-7adf3a232e83",
   "metadata": {},
   "outputs": [],
   "source": [
    "#3\n",
    "f1=open(\"DS.txt\",\"w\")\n",
    "f1.write(\"I want to become a Data Scientist\")\n",
    "f1.close()"
   ]
  },
  {
   "cell_type": "code",
   "execution_count": 23,
   "id": "de20adae-123e-47d5-b3fd-67c3c5ceb231",
   "metadata": {},
   "outputs": [
    {
     "name": "stdout",
     "output_type": "stream",
     "text": [
      " Debug is the lowest logging level;\n",
      "it's used to log some diagnostic information about the application.\n",
      "Info (20): Info is the second lowest logging level used to record information on a piece of code that works as intended\n",
      " Debug is the lowest logging level;\n",
      "\n",
      "[' Debug is the lowest logging level;\\n', \"it's used to log some diagnostic information about the application.\\n\", 'Info (20): Info is the second lowest logging level used to record information on a piece of code that works as intended']\n"
     ]
    }
   ],
   "source": [
    "#4\n",
    "f2=open(\"file.txt\",\"w\")\n",
    "f2.write(\" Debug is the lowest logging level;\\nit's used to log some diagnostic information about the application.\\nInfo (20): Info is the second lowest logging level used to record information on a piece of code that works as intended\")\n",
    "f2.close()\n",
    "f2=open(\"file.txt\",\"r\")\n",
    "x=f2.read() #returns entire contents of file\n",
    "print(x)\n",
    "f2.seek(0)\n",
    "x=f2.readline() #returns the very first line from beginning of pointer\n",
    "print(x)\n",
    "f2.seek(0)\n",
    "x=f2.readlines() #returns a list of strings with each line as a string element of list\n",
    "print(x)"
   ]
  },
  {
   "cell_type": "code",
   "execution_count": null,
   "id": "5ac534d7-7176-40fd-bc6d-e6cf50bed798",
   "metadata": {},
   "outputs": [],
   "source": [
    "#5\n",
    "#with statement is used along with open func as the user need not use close func to close the file making the code short"
   ]
  },
  {
   "cell_type": "code",
   "execution_count": 43,
   "id": "209d57d3-c2c6-44d8-9bec-8eca4fdab6ee",
   "metadata": {},
   "outputs": [],
   "source": [
    "#6\n",
    "f2=open(\"file.txt\",\"w\")\n",
    "f2.write(\"hello\")\n",
    "f2.write(\" worldo\")\n",
    "f2.close()\n",
    "#hello worldp\n",
    "f2=open(\"file.txt\",\"a\")\n",
    "f2.writelines([\"hi\",\"worldo\"])\n",
    "f2.close()\n",
    "#hiworldo\n"
   ]
  },
  {
   "cell_type": "code",
   "execution_count": null,
   "id": "f89cf63a-e13b-45c8-b22e-20faabf4c266",
   "metadata": {},
   "outputs": [],
   "source": []
  }
 ],
 "metadata": {
  "kernelspec": {
   "display_name": "Python 3 (ipykernel)",
   "language": "python",
   "name": "python3"
  },
  "language_info": {
   "codemirror_mode": {
    "name": "ipython",
    "version": 3
   },
   "file_extension": ".py",
   "mimetype": "text/x-python",
   "name": "python",
   "nbconvert_exporter": "python",
   "pygments_lexer": "ipython3",
   "version": "3.10.6"
  }
 },
 "nbformat": 4,
 "nbformat_minor": 5
}
