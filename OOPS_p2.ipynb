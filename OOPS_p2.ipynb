{
 "cells": [
  {
   "cell_type": "code",
   "execution_count": 16,
   "id": "3060b981-06c9-49b6-833e-3cb6e52dbf40",
   "metadata": {},
   "outputs": [
    {
     "name": "stdout",
     "output_type": "stream",
     "text": [
      "Don't jump\n"
     ]
    }
   ],
   "source": [
    "#1\n",
    "#Abstraction-->Process of handling complexity by hiding unnecessary information from the user\n",
    "import abc\n",
    "class swim:\n",
    "    @abc.abstractmethod\n",
    "    def ask(self,depth):\n",
    "        if depth>4 and depth<10:\n",
    "            print(\"Jump\")\n",
    "        else:\n",
    "            print(\"Don't jump\")\n",
    "class kids(swim):\n",
    "    def ask(self,depth):\n",
    "        if depth>3 and depth<8:\n",
    "            print(\"Jump\")\n",
    "        else:\n",
    "            print(\"Don't jump\")\n",
    "        \n",
    "s1=c2() \n",
    "s1.ask(2)"
   ]
  },
  {
   "cell_type": "code",
   "execution_count": 28,
   "id": "4a615e7a-b663-4a7b-8fbe-f7c2f59b4cf2",
   "metadata": {},
   "outputs": [
    {
     "name": "stdin",
     "output_type": "stream",
     "text": [
      "Deposit amt 2215454\n"
     ]
    },
    {
     "name": "stdout",
     "output_type": "stream",
     "text": [
      "Bank bal is 2215454\n"
     ]
    }
   ],
   "source": [
    "#2\n",
    "#Abstraction is used to hide unnecessary information from the user whrereas encapsulation is used to protect user from manipulation or change of data by others\n",
    "#abstraction\n",
    "import abc\n",
    "class swim:\n",
    "    @abc.abstractmethod\n",
    "    def ask(self,depth):\n",
    "        if depth>4 and depth<10:\n",
    "            print(\"Jump\")\n",
    "        else:\n",
    "            print(\"Don't jump\")\n",
    "class kids(swim):\n",
    "    def ask(self,depth):\n",
    "        if depth>3 and depth<8:\n",
    "            print(\"Jump\")\n",
    "        else:\n",
    "            print(\"Don't jump\")\n",
    "        \n",
    "s1=c2() \n",
    "s1.ask(2)\n",
    "#encapsulation\n",
    "class balance:\n",
    "    def __init__(self,b):\n",
    "        self.__bankbal=b\n",
    "    def getbal(self):\n",
    "        return self.__bankbal\n",
    "a=int(input(\"Deposit amt\"))\n",
    "prevbal=0\n",
    "b=prevbal+a\n",
    "cus1=balance(b)\n",
    "print(\"Bank bal is\",cus1.getbal())\n",
    "        "
   ]
  },
  {
   "cell_type": "code",
   "execution_count": null,
   "id": "94e3fccc-1161-478a-82d0-44f0c5ce12c8",
   "metadata": {},
   "outputs": [],
   "source": [
    "#3\n",
    "#abc module helps to use abstractmethod and other methods to implement abstraction\n"
   ]
  },
  {
   "cell_type": "code",
   "execution_count": 29,
   "id": "e91ef5fc-9cdb-4c54-9509-e86e44e7cdac",
   "metadata": {},
   "outputs": [],
   "source": [
    "#4\n",
    "#We can achieve abstraction by using abc module and decorating a func with abc.abstractmethod and then inheriting that class wherever needed\n"
   ]
  },
  {
   "cell_type": "code",
   "execution_count": 39,
   "id": "89bbd7d1-d370-4af5-bc84-f4a8754b0994",
   "metadata": {},
   "outputs": [],
   "source": [
    "#5\n",
    "#No,as it has no function to do anything\n",
    "# from abc import ABC\n",
    "# class add(ABC):\n",
    "#     @abc.abstractmethod\n",
    "#     def inside(self):\n",
    "# \t      pass\n",
    "# c1=add()    \n",
    "#The following code gives a error as we tried creating obj of abstract class"
   ]
  },
  {
   "cell_type": "code",
   "execution_count": 38,
   "id": "ce3cf8d8-e549-43e2-94ba-78bf9a508998",
   "metadata": {},
   "outputs": [
    {
     "ename": "TypeError",
     "evalue": "Can't instantiate abstract class add with abstract method inside",
     "output_type": "error",
     "traceback": [
      "\u001b[0;31m---------------------------------------------------------------------------\u001b[0m",
      "\u001b[0;31mTypeError\u001b[0m                                 Traceback (most recent call last)",
      "Cell \u001b[0;32mIn [38], line 6\u001b[0m\n\u001b[1;32m      3\u001b[0m     \u001b[38;5;129m@abc\u001b[39m\u001b[38;5;241m.\u001b[39mabstractmethod\n\u001b[1;32m      4\u001b[0m     \u001b[38;5;28;01mdef\u001b[39;00m \u001b[38;5;21minside\u001b[39m(\u001b[38;5;28mself\u001b[39m):\n\u001b[1;32m      5\u001b[0m \t      \u001b[38;5;28mprint\u001b[39m(\u001b[38;5;124m\"\u001b[39m\u001b[38;5;124mbody of the class\u001b[39m\u001b[38;5;124m\"\u001b[39m)\n\u001b[0;32m----> 6\u001b[0m c1\u001b[38;5;241m=\u001b[39m\u001b[43madd\u001b[49m\u001b[43m(\u001b[49m\u001b[43m)\u001b[49m\n",
      "\u001b[0;31mTypeError\u001b[0m: Can't instantiate abstract class add with abstract method inside"
     ]
    }
   ],
   "source": []
  },
  {
   "cell_type": "code",
   "execution_count": null,
   "id": "927ec686-38fa-44fc-a0bc-2de1ae20805f",
   "metadata": {},
   "outputs": [],
   "source": []
  }
 ],
 "metadata": {
  "kernelspec": {
   "display_name": "Python 3 (ipykernel)",
   "language": "python",
   "name": "python3"
  },
  "language_info": {
   "codemirror_mode": {
    "name": "ipython",
    "version": 3
   },
   "file_extension": ".py",
   "mimetype": "text/x-python",
   "name": "python",
   "nbconvert_exporter": "python",
   "pygments_lexer": "ipython3",
   "version": "3.10.6"
  }
 },
 "nbformat": 4,
 "nbformat_minor": 5
}
