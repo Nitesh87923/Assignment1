{
 "cells": [
  {
   "cell_type": "code",
   "execution_count": 3,
   "id": "a1b70e55-f4f6-4be4-94a8-20f34776419c",
   "metadata": {},
   "outputs": [
    {
     "name": "stdin",
     "output_type": "stream",
     "text": [
      "Enter the temp in celsius 31\n"
     ]
    },
    {
     "data": {
      "text/plain": [
       "'Safe to play'"
      ]
     },
     "execution_count": 3,
     "metadata": {},
     "output_type": "execute_result"
    }
   ],
   "source": [
    "#1\n",
    "#A class is a blueprint and a object is a instance or in simple words member of a class \n",
    "class play:\n",
    "    def decision(self,temp):\n",
    "        if temp>32:\n",
    "            return \"Not safe to play\"\n",
    "        else:\n",
    "            return \"Safe to play\"\n",
    "temp=int(input(\"Enter the temp in celsius\"))\n",
    "child1=play()\n",
    "child1.decision(temp)\n",
    "        \n",
    "        "
   ]
  },
  {
   "cell_type": "code",
   "execution_count": 5,
   "id": "232d26e8-4ca8-456d-9b1f-66fbd7769ac1",
   "metadata": {},
   "outputs": [
    {
     "data": {
      "text/plain": [
       "'a-->Inheritance  b-->Polymorphism c-->encapsulation  d-->abstraction'"
      ]
     },
     "execution_count": 5,
     "metadata": {},
     "output_type": "execute_result"
    }
   ],
   "source": [
    "#2\n",
    "#4 pillars\n",
    "\"\"\"a-->Inheritance  b-->Polymorphism c-->encapsulation  d-->abstraction\"\"\"\n"
   ]
  },
  {
   "cell_type": "code",
   "execution_count": 32,
   "id": "2ca2fc3a-dc75-4d65-a71f-02666e9e6ec8",
   "metadata": {},
   "outputs": [
    {
     "name": "stdout",
     "output_type": "stream",
     "text": [
      "Pages= 400 Reviews= 3.7\n",
      "Pages= 400 Reviews= 3.7\n"
     ]
    }
   ],
   "source": [
    "#3\n",
    "#__init__-->__init__ is a func which gets called as soon as a object is created of that particular class,whatever methods and variables are in the __init__ func gets trigerred\n",
    "class book():\n",
    "    def __init__(self,pages,reviews):\n",
    "        self.pages=pages\n",
    "        self.reviews=reviews\n",
    "        \n",
    "    def display(self):\n",
    "        print(\"Pages=\",self.pages,\"Reviews=\",self.reviews)\n",
    "b1=book(400,3.7)  \n",
    "b1.display()\n",
    "#In the following example whenever a object is created pages and reviews are taken as it is a common property among all books hence __init__ is used"
   ]
  },
  {
   "cell_type": "code",
   "execution_count": null,
   "id": "65f1e405-5226-4a51-91c4-040d61248435",
   "metadata": {},
   "outputs": [],
   "source": [
    "#4\n",
    "#self-->self is used to access the variables and methods of the class,it represents object of class itself\n"
   ]
  },
  {
   "cell_type": "code",
   "execution_count": null,
   "id": "db551b92-db28-4f5e-9dc2-755105704bec",
   "metadata": {},
   "outputs": [],
   "source": [
    "#5\n",
    "#inheritance-->It is the process of accessing the mem functions and members of a class i.e child class accessing parent class's properties\n",
    "#types\n",
    "class c1:\n",
    "    def f1():\n",
    "        return \"In class c1\"\n",
    "class c2:\n",
    "    def f2():\n",
    "        return \"In class c2\"\n",
    "class c3:\n",
    "    def f3():\n",
    "        return \"In class c3\"\n",
    "class c4:\n",
    "    def f4():\n",
    "        return \"In class c4\"    \n",
    "#herw a few changes are made in each class in order to explain the types     \n",
    "#1-->single inheritance\n",
    "\"\"\"c2(c1)\"\"\"\n",
    "#2-->multiple inhertiance\n",
    "\"\"\"c3(c1,c2)\"\"\"\n",
    "#3-->multilevel inheritance\n",
    "\"\"\"c2(c1),c3(c2)\"\"\"\n",
    "#4-->hierarchical inheritance\n",
    "\"\"\"c2(c1),c3(c1)\"\"\"\n",
    "#5-->hybrid inheritance\n",
    "\"\"\""
   ]
  },
  {
   "cell_type": "code",
   "execution_count": null,
   "id": "a3768531-995a-4663-9d2f-1b1702b540c9",
   "metadata": {},
   "outputs": [],
   "source": []
  },
  {
   "cell_type": "code",
   "execution_count": null,
   "id": "2e0b7b20-e630-4dea-b8d1-403cc655c8e4",
   "metadata": {},
   "outputs": [],
   "source": []
  },
  {
   "cell_type": "code",
   "execution_count": null,
   "id": "08f5fddc-c75b-46c2-85c6-4af828203781",
   "metadata": {},
   "outputs": [],
   "source": []
  },
  {
   "cell_type": "code",
   "execution_count": null,
   "id": "94c86fea-af21-4f2c-9f69-a92eebcb84e9",
   "metadata": {},
   "outputs": [],
   "source": []
  },
  {
   "cell_type": "code",
   "execution_count": null,
   "id": "358eaff3-879f-449d-9c9c-0491bfbb79be",
   "metadata": {},
   "outputs": [],
   "source": []
  },
  {
   "cell_type": "code",
   "execution_count": null,
   "id": "ca1b8b84-d185-4a55-ad2e-a965502b7ca1",
   "metadata": {},
   "outputs": [],
   "source": []
  }
 ],
 "metadata": {
  "kernelspec": {
   "display_name": "Python 3 (ipykernel)",
   "language": "python",
   "name": "python3"
  },
  "language_info": {
   "codemirror_mode": {
    "name": "ipython",
    "version": 3
   },
   "file_extension": ".py",
   "mimetype": "text/x-python",
   "name": "python",
   "nbconvert_exporter": "python",
   "pygments_lexer": "ipython3",
   "version": "3.10.6"
  }
 },
 "nbformat": 4,
 "nbformat_minor": 5
}
