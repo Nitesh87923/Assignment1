{
 "cells": [
  {
   "cell_type": "code",
   "execution_count": 1,
   "id": "d4dd457c-ff93-47a8-a212-ba2ca218eec7",
   "metadata": {},
   "outputs": [],
   "source": [
    "#1\n",
    "#Multithreading-->It is the process of using multiple threads wherein each thread performs a task\n",
    "#Multithreading helps to reduce processing time and use complete resources of the cpu and helps to improve performance\n",
    "#threading module"
   ]
  },
  {
   "cell_type": "code",
   "execution_count": 2,
   "id": "8ad9118c-98f2-44dd-8518-bfdfe0065e71",
   "metadata": {},
   "outputs": [],
   "source": [
    "#2\n",
    "#Threading module is used to create threads and run them concurrently\n",
    "#activeCount()-->This function returns the number of active threads at a particular instance\n",
    "#currentThread()-->This function helps the user to find which thread is currently active\n",
    "#enumerate()-->This function helps the user to find the threads that are active at a particular instance"
   ]
  },
  {
   "cell_type": "code",
   "execution_count": null,
   "id": "02e7ac50-9e42-469e-939e-5e67ef74860e",
   "metadata": {},
   "outputs": [],
   "source": [
    "#3\n",
    "#run() method executes any target function belonging to a given thread object that is now active\n",
    "#start() method is used to initiate the activity of a thread\n",
    "#join() method has the effect of blocking the current thread until the target thread that has been joined has terminated\n",
    "#isAlive() method checks whether a given thread is alive or dead"
   ]
  },
  {
   "cell_type": "code",
   "execution_count": 7,
   "id": "9da84576-95fb-4971-a918-97954366c975",
   "metadata": {},
   "outputs": [
    {
     "name": "stdout",
     "output_type": "stream",
     "text": [
      "List of squares  [0, 1, 4, 9, 16]\n",
      "List of cubes  [0, 1, 8, 27, 64]\n"
     ]
    }
   ],
   "source": [
    "#4\n",
    "import threading\n",
    "def sq():\n",
    "    l1=[e*e for e in range(0,5)]\n",
    "    print(\"List of squares \",l1)\n",
    "def cube():\n",
    "    l1=[e**3 for e in range(0,5)]\n",
    "    print(\"List of cubes \",l1)\n",
    "t1=threading.Thread(target=sq)\n",
    "t2=threading.Thread(target=cube)\n",
    "t1.start()\n",
    "t2.start()        \n",
    "    "
   ]
  },
  {
   "cell_type": "markdown",
   "id": "bda7fd28-e327-48e8-b48b-43a1c1e7df68",
   "metadata": {},
   "source": [
    "\n",
    "\n"
   ]
  },
  {
   "cell_type": "code",
   "execution_count": 1,
   "id": "806b0db4-af5d-41e9-b059-3b9b276ebfef",
   "metadata": {},
   "outputs": [],
   "source": [
    "#5\n",
    "#Advantages:\n",
    "#Helps to use the cpu resources effectively\n",
    "#Saves execution time\n",
    "#Multithreading enables parallelism, which can lead to significant performance improvements in applications that can be divided into smaller, independent tasks\n",
    "#Disadvantages\n",
    "#Complex debugging\n",
    "#Unpredictable results\n",
    "#Difficulty of testing"
   ]
  },
  {
   "cell_type": "code",
   "execution_count": null,
   "id": "db64250b-689b-4a99-9970-799dcea1b525",
   "metadata": {},
   "outputs": [],
   "source": [
    "#6\n",
    "#A race condition occurs when two threads use the same variable at a given time\n",
    "#A deadlock is a concurrency failure mode where a thread or threads wait for a condition that never occurs"
   ]
  }
 ],
 "metadata": {
  "kernelspec": {
   "display_name": "Python 3 (ipykernel)",
   "language": "python",
   "name": "python3"
  },
  "language_info": {
   "codemirror_mode": {
    "name": "ipython",
    "version": 3
   },
   "file_extension": ".py",
   "mimetype": "text/x-python",
   "name": "python",
   "nbconvert_exporter": "python",
   "pygments_lexer": "ipython3",
   "version": "3.10.6"
  }
 },
 "nbformat": 4,
 "nbformat_minor": 5
}
