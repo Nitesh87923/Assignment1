{
 "cells": [
  {
   "cell_type": "code",
   "execution_count": 5,
   "id": "07d46a25-a35e-493e-bfa7-6d247fc7bdab",
   "metadata": {},
   "outputs": [
    {
     "name": "stdin",
     "output_type": "stream",
     "text": [
      "Enter the marks 82\n"
     ]
    },
    {
     "name": "stdout",
     "output_type": "stream",
     "text": [
      "B\n"
     ]
    }
   ],
   "source": [
    "#1\n",
    "marks=int(input(\"Enter the marks\"))\n",
    "if marks>90 and marks<=100:\n",
    "    print(\"A\")\n",
    "elif marks>80 and marks<=90:\n",
    "    print(\"B\")\n",
    "elif marks>=60 and marks<=80:\n",
    "    print(\"C\")\n",
    "elif marks<60:\n",
    "    print(\"D\")"
   ]
  },
  {
   "cell_type": "code",
   "execution_count": 2,
   "id": "af72b688-dce9-427f-b227-736861044d5f",
   "metadata": {},
   "outputs": [
    {
     "name": "stdin",
     "output_type": "stream",
     "text": [
      "Enter the price of bike 100000\n"
     ]
    },
    {
     "name": "stdout",
     "output_type": "stream",
     "text": [
      "Tax to be paid= 10000.0\n"
     ]
    }
   ],
   "source": [
    "#2\n",
    "price=int(input(\"Enter the price of bike\"))\n",
    "if price>100000:\n",
    "    print(\"Tax to be paid=\",price*0.15)\n",
    "elif price<=100000 and price>50000:\n",
    "    print(\"Tax to be paid=\",price*0.10)\n",
    "elif price<=50000:\n",
    "    print(\"Tax to be paid=\",price*0.05)\n",
    "    \n",
    "    \n",
    "    "
   ]
  },
  {
   "cell_type": "code",
   "execution_count": 3,
   "id": "e0c90c3d-7d63-4299-872f-ae77fe8f3ea2",
   "metadata": {},
   "outputs": [
    {
     "name": "stdin",
     "output_type": "stream",
     "text": [
      "Enter the city name Delhi\n"
     ]
    },
    {
     "name": "stdout",
     "output_type": "stream",
     "text": [
      "Monument is Red Fort\n"
     ]
    }
   ],
   "source": [
    "#3\n",
    "city=input(\"Enter the city name\")\n",
    "city=city.lower()\n",
    "if city==\"delhi\":\n",
    "    print(\"Monument is Red Fort\")\n",
    "elif city==\"agra\":\n",
    "    print(\"Monument is Taj Mahal\")\n",
    "elif city==\"jaipur\":\n",
    "    print(\"Monument is Jal Mahal\")    \n",
    "    \n",
    "    \n",
    "    "
   ]
  },
  {
   "cell_type": "code",
   "execution_count": 7,
   "id": "9b2f956c-92be-4dff-9ece-e141db57a22a",
   "metadata": {},
   "outputs": [
    {
     "name": "stdin",
     "output_type": "stream",
     "text": [
      "Enter the number 60\n"
     ]
    },
    {
     "data": {
      "text/plain": [
       "2"
      ]
     },
     "execution_count": 7,
     "metadata": {},
     "output_type": "execute_result"
    }
   ],
   "source": [
    "#4\n",
    "num=int(input(\"Enter the number\"))\n",
    "count=0\n",
    "while num>10:\n",
    "    num=num/3\n",
    "    count+=1\n",
    "count    "
   ]
  },
  {
   "cell_type": "code",
   "execution_count": 8,
   "id": "47fe4aa3-4cb4-447f-8ae5-31d9a3117fed",
   "metadata": {},
   "outputs": [
    {
     "name": "stdout",
     "output_type": "stream",
     "text": [
      "10\n",
      "9\n",
      "8\n",
      "7\n",
      "6\n"
     ]
    }
   ],
   "source": [
    "#5\n",
    "#while loop is used to keep executing a task until a given condition becomes false\n",
    "a=10\n",
    "while a>5:\n",
    "    print(a)\n",
    "    a-=1"
   ]
  },
  {
   "cell_type": "code",
   "execution_count": 19,
   "id": "fd373cd2-f645-4952-9310-107630a4534b",
   "metadata": {},
   "outputs": [
    {
     "name": "stdout",
     "output_type": "stream",
     "text": [
      "***\n",
      "**\n",
      "*\n",
      "\n",
      "*  *\n",
      "  *\n",
      "*\n",
      "\n",
      "  *  \n",
      "*  \n",
      "  \n"
     ]
    }
   ],
   "source": [
    "#6\n",
    "r=3\n",
    "c=3\n",
    "while r>0:\n",
    "    while c>0:\n",
    "        print(\"*\",end=\"\")\n",
    "        c-=1\n",
    "    print()\n",
    "    c=r-1\n",
    "    r-=1\n",
    "print()    \n",
    "r=3\n",
    "c=3\n",
    "while r>0:\n",
    "    while c>0:\n",
    "        if(c%2!=0):\n",
    "            print(\"*\",end=\"\")\n",
    "        else:\n",
    "            print(\"  \",end=\"\")\n",
    "        c-=1\n",
    "    print()\n",
    "    c=r-1\n",
    "    r-=1\n",
    "print() \n",
    "r=3\n",
    "c=3\n",
    "while r>0:\n",
    "    while c>0:\n",
    "        if(c%2==0):\n",
    "            print(\"*\",end=\"\")\n",
    "        else:\n",
    "            print(\"  \",end=\"\")\n",
    "        c-=1\n",
    "    print()\n",
    "    c=r-1\n",
    "    r-=1    \n",
    "    "
   ]
  },
  {
   "cell_type": "code",
   "execution_count": null,
   "id": "9a27cd43-4ed5-436d-85a6-5ffa430161a1",
   "metadata": {},
   "outputs": [],
   "source": [
    "#7\n",
    "a=10\n",
    "while a>0:\n",
    "    print(a)\n",
    "    a-=1"
   ]
  },
  {
   "cell_type": "code",
   "execution_count": null,
   "id": "29e85fdb-65a9-4f49-8d52-470a1e0ccbd9",
   "metadata": {},
   "outputs": [],
   "source": []
  }
 ],
 "metadata": {
  "kernelspec": {
   "display_name": "Python 3 (ipykernel)",
   "language": "python",
   "name": "python3"
  },
  "language_info": {
   "codemirror_mode": {
    "name": "ipython",
    "version": 3
   },
   "file_extension": ".py",
   "mimetype": "text/x-python",
   "name": "python",
   "nbconvert_exporter": "python",
   "pygments_lexer": "ipython3",
   "version": "3.10.6"
  }
 },
 "nbformat": 4,
 "nbformat_minor": 5
}
