{
 "cells": [
  {
   "cell_type": "code",
   "execution_count": 1,
   "id": "99765ed0-a7fe-4e4f-ab64-af0c18b4238a",
   "metadata": {},
   "outputs": [],
   "source": [
    "#1\n",
    "#An exception is basically a error according to python but a special case for the user\n",
    "#syntax error is an issue in a program that prevents the program from completing its task. \n",
    "#In comparison,an exception is a condition that interrupts the normal flow of the program,exceptions can be created by user whereas syntax errors can't"
   ]
  },
  {
   "cell_type": "code",
   "execution_count": 11,
   "id": "d94e6855-ad1e-48f5-9217-38500ae37243",
   "metadata": {},
   "outputs": [
    {
     "name": "stdout",
     "output_type": "stream",
     "text": [
      "unsupported operand type(s) for +: 'int' and 'str'\n"
     ]
    },
    {
     "ename": "TypeError",
     "evalue": "unsupported operand type(s) for +: 'int' and 'str'",
     "output_type": "error",
     "traceback": [
      "\u001b[0;31m---------------------------------------------------------------------------\u001b[0m",
      "\u001b[0;31mTypeError\u001b[0m                                 Traceback (most recent call last)",
      "Cell \u001b[0;32mIn [11], line 13\u001b[0m\n\u001b[1;32m     11\u001b[0m a\u001b[38;5;241m=\u001b[39m\u001b[38;5;241m2\u001b[39m\n\u001b[1;32m     12\u001b[0m b\u001b[38;5;241m=\u001b[39m\u001b[38;5;124m\"\u001b[39m\u001b[38;5;124mabc\u001b[39m\u001b[38;5;124m\"\u001b[39m\n\u001b[0;32m---> 13\u001b[0m \u001b[38;5;28mprint\u001b[39m(\u001b[43ma\u001b[49m\u001b[38;5;241;43m+\u001b[39;49m\u001b[43mb\u001b[49m)\n",
      "\u001b[0;31mTypeError\u001b[0m: unsupported operand type(s) for +: 'int' and 'str'"
     ]
    }
   ],
   "source": [
    "#2\n",
    "#if the exception is not handled then a error will be thrown\n",
    "#when exception is handled\n",
    "a=3\n",
    "b=\"xyz\"\n",
    "try:\n",
    "    print(a+b)\n",
    "except Exception as e:\n",
    "    print(e)\n",
    "#when exception is not handled\n",
    "a=2\n",
    "b=\"abc\"\n",
    "print(a+b)\n"
   ]
  },
  {
   "cell_type": "code",
   "execution_count": 13,
   "id": "8e1d6fb3-bc25-4b7e-9e75-4e1c4e0e8302",
   "metadata": {},
   "outputs": [
    {
     "name": "stdout",
     "output_type": "stream",
     "text": [
      "unsupported operand type(s) for +: 'int' and 'str'\n"
     ]
    }
   ],
   "source": [
    "#3\n",
    "a=2\n",
    "try:            #-->to catch the exception\"\"\"\n",
    "    print(a+b)\n",
    "except Exception as e:   #-->handling the exception\n",
    "    print(e)"
   ]
  },
  {
   "cell_type": "code",
   "execution_count": 15,
   "id": "02675c97-b80e-4342-b63c-b52c1ba17922",
   "metadata": {},
   "outputs": [
    {
     "name": "stdin",
     "output_type": "stream",
     "text": [
      "Enter the index 1\n"
     ]
    },
    {
     "name": "stdout",
     "output_type": "stream",
     "text": [
      "2\n",
      "Except block not executed\n",
      "Will always be printed\n"
     ]
    }
   ],
   "source": [
    "#4\n",
    "a=[1,2]\n",
    "index=int(input(\"Enter the index\"))\n",
    "try:\n",
    "    print(a[index])\n",
    "except Exception as e:\n",
    "    print(e)\n",
    "    print(\"In except block\")\n",
    "else:\n",
    "    print(\"Except block not executed\")\n",
    "finally:\n",
    "    print(\"Will always be printed\")\n",
    "    "
   ]
  },
  {
   "cell_type": "code",
   "execution_count": 19,
   "id": "6663d46b-8d04-4610-ae44-0413f675d03a",
   "metadata": {},
   "outputs": [
    {
     "name": "stdin",
     "output_type": "stream",
     "text": [
      "Enter age 250\n"
     ]
    },
    {
     "name": "stdout",
     "output_type": "stream",
     "text": [
      "Age out of range\n"
     ]
    }
   ],
   "source": [
    "#5\n",
    "#custom exception are exception according to user but not python hence these are exceptions made by user as per to convenience\n",
    "#there are various situations wherein we need custom exceptions which are not present in python.as the given example explains\n",
    "age=int(input(\"Enter age\"))\n",
    "try:\n",
    "    if age<0 or age>200:\n",
    "        raise Exception(\"Age out of range\")\n",
    "except Exception as e:\n",
    "    print(e)\n",
    "else:\n",
    "    print(f\"age is {age}\")"
   ]
  },
  {
   "cell_type": "code",
   "execution_count": null,
   "id": "d632366e-3667-47af-abbc-f6c52ddf9047",
   "metadata": {},
   "outputs": [],
   "source": [
    "#6\n",
    "class custom_exception:\n",
    "    def __init__(self):\n",
    "        pass\n",
    "    def temp(self,t):\n",
    "        try:\n",
    "            if t<0:\n",
    "                raise Exception(\"Invalid temperature\")\n",
    "        except Exception as e:\n",
    "            print(e)\n",
    "    def pwskills_c_price(self,price):\n",
    "        try:\n",
    "            if price>5000:\n",
    "                raise Exception(\"Exceeds...\")\n",
    "        except Exception as e:\n",
    "            print(e)  \n",
    "c1=custom_exception()\n",
    "\n",
    "                \n",
    "    "
   ]
  },
  {
   "cell_type": "code",
   "execution_count": null,
   "id": "a3b7f360-875a-4b9a-b36b-00188c26bd2e",
   "metadata": {},
   "outputs": [],
   "source": []
  },
  {
   "cell_type": "code",
   "execution_count": null,
   "id": "aeeda0b0-def4-4fc6-b854-cc82a981ce64",
   "metadata": {},
   "outputs": [],
   "source": []
  },
  {
   "cell_type": "code",
   "execution_count": null,
   "id": "7080f04c-86d7-4201-b915-dbf495f75bda",
   "metadata": {},
   "outputs": [],
   "source": [
    "\n"
   ]
  },
  {
   "cell_type": "code",
   "execution_count": null,
   "id": "44005c16-03e8-47a0-9c72-a2755f9cfbbd",
   "metadata": {},
   "outputs": [],
   "source": []
  },
  {
   "cell_type": "code",
   "execution_count": null,
   "id": "ca73521b-1e0a-487d-ada6-7cd93203acee",
   "metadata": {},
   "outputs": [],
   "source": []
  },
  {
   "cell_type": "code",
   "execution_count": null,
   "id": "8c832504-36c2-41d2-b0f1-762c868e3dcd",
   "metadata": {},
   "outputs": [],
   "source": []
  },
  {
   "cell_type": "code",
   "execution_count": null,
   "id": "e135ae7f-0183-484a-ba0d-acc38c12884d",
   "metadata": {},
   "outputs": [],
   "source": []
  },
  {
   "cell_type": "code",
   "execution_count": null,
   "id": "3c8fb59a-88c2-4f00-98f9-48ba5386181a",
   "metadata": {},
   "outputs": [],
   "source": []
  },
  {
   "cell_type": "code",
   "execution_count": null,
   "id": "5e2061e3-bfc1-4949-baaf-f2c4368fb164",
   "metadata": {},
   "outputs": [],
   "source": []
  },
  {
   "cell_type": "code",
   "execution_count": null,
   "id": "f09e412b-7973-4cf9-abab-42b36b2eea4b",
   "metadata": {},
   "outputs": [],
   "source": []
  },
  {
   "cell_type": "code",
   "execution_count": null,
   "id": "f1fa6a0d-5f90-47a8-9276-5354232a67e9",
   "metadata": {},
   "outputs": [],
   "source": []
  },
  {
   "cell_type": "code",
   "execution_count": null,
   "id": "7e8a27c7-cd5b-4fe7-9091-54d0068a152e",
   "metadata": {},
   "outputs": [],
   "source": []
  },
  {
   "cell_type": "code",
   "execution_count": null,
   "id": "033c4aa3-0920-4fed-afdf-803bfd6888f6",
   "metadata": {},
   "outputs": [],
   "source": []
  },
  {
   "cell_type": "code",
   "execution_count": null,
   "id": "405acf8b-bf4f-4789-991c-033765e015bd",
   "metadata": {},
   "outputs": [],
   "source": []
  },
  {
   "cell_type": "code",
   "execution_count": null,
   "id": "f2e2ebda-e13a-4df5-b961-f74ad6ecb863",
   "metadata": {},
   "outputs": [],
   "source": []
  }
 ],
 "metadata": {
  "kernelspec": {
   "display_name": "Python 3 (ipykernel)",
   "language": "python",
   "name": "python3"
  },
  "language_info": {
   "codemirror_mode": {
    "name": "ipython",
    "version": 3
   },
   "file_extension": ".py",
   "mimetype": "text/x-python",
   "name": "python",
   "nbconvert_exporter": "python",
   "pygments_lexer": "ipython3",
   "version": "3.10.6"
  }
 },
 "nbformat": 4,
 "nbformat_minor": 5
}
