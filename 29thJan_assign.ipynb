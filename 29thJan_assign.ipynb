{
 "cells": [
  {
   "cell_type": "code",
   "execution_count": 1,
   "id": "9fcda5f3-28bd-4f48-8d68-85edce6b9e2a",
   "metadata": {},
   "outputs": [],
   "source": [
    "#1\n",
    "#Guido Van Rossum"
   ]
  },
  {
   "cell_type": "code",
   "execution_count": null,
   "id": "20c79740-d7a9-4b90-9b77-0fee28516599",
   "metadata": {},
   "outputs": [],
   "source": [
    "#2\n",
    "#Object oriented and functional programming "
   ]
  },
  {
   "cell_type": "code",
   "execution_count": 2,
   "id": "bfdc87f6-c0dd-4472-8a1a-2b3757bc4039",
   "metadata": {},
   "outputs": [],
   "source": [
    "#3\n",
    "#Yes"
   ]
  },
  {
   "cell_type": "code",
   "execution_count": 3,
   "id": "81419105-4456-4ec2-ada9-ef2fd382353f",
   "metadata": {},
   "outputs": [],
   "source": [
    "#4\n",
    "#.py"
   ]
  },
  {
   "cell_type": "code",
   "execution_count": 4,
   "id": "f8b6daf1-7b91-4fce-96f7-8a3235a3fd51",
   "metadata": {},
   "outputs": [],
   "source": [
    "#5\n",
    "#intepreted"
   ]
  },
  {
   "cell_type": "code",
   "execution_count": 5,
   "id": "28d944f0-56c8-438c-8930-1a00c86ea6bb",
   "metadata": {},
   "outputs": [],
   "source": [
    "#7\n",
    "#"
   ]
  },
  {
   "cell_type": "code",
   "execution_count": 10,
   "id": "5ef92387-7d64-4c54-944b-494516d97821",
   "metadata": {},
   "outputs": [],
   "source": [
    "#8\n",
    "#sys.version"
   ]
  },
  {
   "cell_type": "code",
   "execution_count": 11,
   "id": "60cd2f9d-84e7-4819-9c45-d7ba4048180b",
   "metadata": {},
   "outputs": [],
   "source": [
    "#9\n",
    "#lambda"
   ]
  },
  {
   "cell_type": "code",
   "execution_count": 12,
   "id": "a387d1ff-8fec-4a0f-a05c-d5bf76535e10",
   "metadata": {},
   "outputs": [],
   "source": [
    "#10\n",
    "#Pip Installs Packages"
   ]
  },
  {
   "cell_type": "code",
   "execution_count": 15,
   "id": "f66b90c5-5fbf-4d00-af2d-87c380948ba5",
   "metadata": {},
   "outputs": [],
   "source": [
    "#11\n",
    "#sum(),print(),type(),int(),abs()"
   ]
  },
  {
   "cell_type": "code",
   "execution_count": 19,
   "id": "6f798f96-0d08-46c1-83cd-4fb7d6e1bc8c",
   "metadata": {},
   "outputs": [],
   "source": [
    "#12\n",
    "#79"
   ]
  },
  {
   "cell_type": "code",
   "execution_count": 20,
   "id": "f2a482d4-ba41-4837-8e60-04ce70e4f226",
   "metadata": {},
   "outputs": [],
   "source": [
    "#13\n",
    "#Easy to learn,less code more functionality,Beginner friendly........"
   ]
  },
  {
   "cell_type": "code",
   "execution_count": 21,
   "id": "b2f4d4e8-b385-42c4-abf0-e76c4630e1e1",
   "metadata": {},
   "outputs": [],
   "source": [
    "#14\n",
    "#The memory is a heap that stores the program's objects and other data structures\n"
   ]
  },
  {
   "cell_type": "code",
   "execution_count": 22,
   "id": "78857bd7-f32d-4412-9d34-048385caef99",
   "metadata": {},
   "outputs": [],
   "source": [
    "#15"
   ]
  },
  {
   "cell_type": "code",
   "execution_count": null,
   "id": "304e2c3d-57a9-4bad-a3a0-92a19caf0f8d",
   "metadata": {},
   "outputs": [],
   "source": [
    "#16\n",
    "#Yes"
   ]
  }
 ],
 "metadata": {
  "kernelspec": {
   "display_name": "Python 3 (ipykernel)",
   "language": "python",
   "name": "python3"
  },
  "language_info": {
   "codemirror_mode": {
    "name": "ipython",
    "version": 3
   },
   "file_extension": ".py",
   "mimetype": "text/x-python",
   "name": "python",
   "nbconvert_exporter": "python",
   "pygments_lexer": "ipython3",
   "version": "3.10.6"
  }
 },
 "nbformat": 4,
 "nbformat_minor": 5
}
