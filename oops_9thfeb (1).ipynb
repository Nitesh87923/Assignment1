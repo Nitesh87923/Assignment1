{
 "cells": [
  {
   "cell_type": "code",
   "execution_count": 1,
   "id": "1bc7bd9d-47db-4c62-922f-6b05095e80aa",
   "metadata": {},
   "outputs": [],
   "source": [
    "#1\n",
    "class vehicle:\n",
    "    def __init__(self):\n",
    "        self.name_of_vehicle=\"bmw\"\n",
    "        self.max_speed=\"400mph\"\n",
    "        self.average_of_vehicle=\"5\""
   ]
  },
  {
   "cell_type": "code",
   "execution_count": 6,
   "id": "d0883af2-e690-4fe6-b499-ba7bd554317b",
   "metadata": {},
   "outputs": [
    {
     "name": "stdout",
     "output_type": "stream",
     "text": [
      "('bmw', 2)\n"
     ]
    }
   ],
   "source": [
    "#2\n",
    "class car(vehicle):\n",
    "    def seating_capacity(self,s):\n",
    "        self.seating_capacity=s\n",
    "        return self.name_of_vehicle,self.seating_capacity\n",
    "c1=car()\n",
    "print(c1.seating_capacity(2))"
   ]
  },
  {
   "cell_type": "code",
   "execution_count": 9,
   "id": "f4eb8a81-7094-4fdc-981a-240b12555ca8",
   "metadata": {},
   "outputs": [
    {
     "name": "stdout",
     "output_type": "stream",
     "text": [
      "This is class a\n"
     ]
    }
   ],
   "source": [
    "#3\n",
    "#Multiple inheritance-->it is a type of inheritance wherein a class inherits from more than one class\n",
    "class a:\n",
    "    def child_a(self):\n",
    "        print(\"This is class a\")\n",
    "class b:\n",
    "    def child_b(self):\n",
    "        print(\"This is class b\") \n",
    "class c(b,a):\n",
    "    def parent(self):\n",
    "        print(\"This is class c\")\n",
    "c1=c() \n",
    "c1.child_a()  "
   ]
  },
  {
   "cell_type": "code",
   "execution_count": 10,
   "id": "382c132b-d8fd-4e2b-8f9b-5313424fcc10",
   "metadata": {},
   "outputs": [
    {
     "name": "stdout",
     "output_type": "stream",
     "text": [
      "57\n"
     ]
    }
   ],
   "source": [
    "#4\n",
    "#setter-->Helps to set or assign data\n",
    "#getter-->helps to get data\n",
    "class methods():\n",
    "    def setter(self,x):\n",
    "        self.charge=x\n",
    "    def getter(self):\n",
    "        return self.charge\n",
    "m1=methods()\n",
    "m1.setter(57)\n",
    "print(m1.getter())\n",
    "    \n",
    "    \n",
    "    \n"
   ]
  },
  {
   "cell_type": "code",
   "execution_count": 14,
   "id": "98f0feeb-3965-4ff4-8f1a-6822f6826d06",
   "metadata": {},
   "outputs": [
    {
     "name": "stdout",
     "output_type": "stream",
     "text": [
      "Football\n"
     ]
    }
   ],
   "source": [
    "#5\n",
    "class parent():\n",
    "    def game(self):\n",
    "        self.fav_game=\"Cricket\"\n",
    "        return self.fav_game \n",
    "class child(parent):   \n",
    "    def game(self):\n",
    "        self.fav_game=\"Football\"\n",
    "        return self.fav_game \n",
    "p1=child()   \n",
    "print(p1.game())"
   ]
  },
  {
   "cell_type": "code",
   "execution_count": null,
   "id": "4f5f4607-9adc-4b0b-9f6e-0d8d611eaa44",
   "metadata": {},
   "outputs": [],
   "source": []
  }
 ],
 "metadata": {
  "kernelspec": {
   "display_name": "Python 3 (ipykernel)",
   "language": "python",
   "name": "python3"
  },
  "language_info": {
   "codemirror_mode": {
    "name": "ipython",
    "version": 3
   },
   "file_extension": ".py",
   "mimetype": "text/x-python",
   "name": "python",
   "nbconvert_exporter": "python",
   "pygments_lexer": "ipython3",
   "version": "3.10.6"
  }
 },
 "nbformat": 4,
 "nbformat_minor": 5
}
