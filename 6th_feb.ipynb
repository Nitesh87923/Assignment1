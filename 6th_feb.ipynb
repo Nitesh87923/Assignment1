{
 "cells": [
  {
   "cell_type": "code",
   "execution_count": 36,
   "id": "37395846-8b41-442c-8c5e-2f1ed050ef23",
   "metadata": {},
   "outputs": [
    {
     "name": "stdout",
     "output_type": "stream",
     "text": [
      "1 *2 *3 *4 *44 *55 *66 *34 *56 *78 *89 *34 *1 *2 *3 *1 *4 *34 *55 *67 *78 *89 *45 *22 *61 *34 *56 *4134711838987085478833841242112000\n"
     ]
    },
    {
     "data": {
      "text/plain": [
       "{1, 2, 3}"
      ]
     },
     "execution_count": 36,
     "metadata": {},
     "output_type": "execute_result"
    }
   ],
   "source": [
    "#1\n",
    "def prod(list1):\n",
    "    l1=[]\n",
    "    for i in list1:\n",
    "        if type(i)==list:\n",
    "            l1.extend(i)\n",
    "        elif type(i)==set:\n",
    "            l1.extend(list(i))\n",
    "        elif type(i)==dict:\n",
    "            l1.extend(list(dict.keys(i)))\n",
    "            l1.extend(list((dict.values(i))))\n",
    "        else:\n",
    "            l1.append(i)\n",
    "   \n",
    "    l2=[]\n",
    "    for i in l1:\n",
    "        if type(i)==list:\n",
    "            l2.extend(i)\n",
    "        elif type(i)==set:\n",
    "            l2.extend(list(i))\n",
    "        elif type(i)==dict:\n",
    "            l2.extend(list(dict.keys(i)))\n",
    "            l2.extend(list((dict.values(i))))\n",
    "        elif type(i)==tuple:\n",
    "            l2.extend(list(i))\n",
    "        else:\n",
    "            l2.append(i)\n",
    "    \n",
    "    product=1\n",
    "    for e in l2:\n",
    "        \n",
    "        if type(e)==int:\n",
    "            print(e,\"*\",end=\"\")\n",
    "            product*=e\n",
    "            \n",
    "    return product        \n",
    "    \n",
    "      \n",
    "list1 = [1,2,3,4, [44,55,66, True], False, (34,56,78,89,34), {1,2,3,3,2,1}, {1:34, \"key2\": [55, 67, 78, 89], 4: (45,\n",
    "22, 61, 34)}, [56, 'data science'], 'Machine Learning']\n",
    "print(prod(list1))\n",
    "list1[7]\n"
   ]
  },
  {
   "cell_type": "code",
   "execution_count": 49,
   "id": "1016caf1-d546-4c3d-baa5-8b2de41d2268",
   "metadata": {},
   "outputs": [
    {
     "name": "stdout",
     "output_type": "stream",
     "text": [
      "I$wznt$to$yexome$z$Dztz$Sxientist.\n"
     ]
    }
   ],
   "source": [
    "#2\n",
    "def encrypt(s):\n",
    "    s1=\"\"\n",
    "    for e in s:\n",
    "        if e==\"a\":\n",
    "            \n",
    "            s1=s1+(\"z\")\n",
    "           \n",
    "        elif e==\"b\":\n",
    "           \n",
    "            s1=s1+(\"y\") \n",
    "         \n",
    "        elif e==\"c\":\n",
    "           \n",
    "            s1=s1+(\"x\")\n",
    "           \n",
    "        elif e==\" \":\n",
    "           \n",
    "            s1=s1+(\"$\")\n",
    "            \n",
    "        else:\n",
    "            s1=s1+e\n",
    "           \n",
    "    return s1       \n",
    "s=\"I want to become a Data Scientist.\"\n",
    "print(encrypt(s))"
   ]
  },
  {
   "cell_type": "code",
   "execution_count": null,
   "id": "e032bebb-fd97-483d-8b1b-ba76faf27fc8",
   "metadata": {},
   "outputs": [],
   "source": [
    "#3\n"
   ]
  }
 ],
 "metadata": {
  "kernelspec": {
   "display_name": "Python 3 (ipykernel)",
   "language": "python",
   "name": "python3"
  },
  "language_info": {
   "codemirror_mode": {
    "name": "ipython",
    "version": 3
   },
   "file_extension": ".py",
   "mimetype": "text/x-python",
   "name": "python",
   "nbconvert_exporter": "python",
   "pygments_lexer": "ipython3",
   "version": "3.10.6"
  }
 },
 "nbformat": 4,
 "nbformat_minor": 5
}
