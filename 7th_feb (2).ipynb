{
 "cells": [
  {
   "cell_type": "code",
   "execution_count": 13,
   "id": "9fcda5f3-28bd-4f48-8d68-85edce6b9e2a",
   "metadata": {},
   "outputs": [
    {
     "name": "stdin",
     "output_type": "stream",
     "text": [
      "Enter the password Nitesh@200\n"
     ]
    },
    {
     "name": "stdout",
     "output_type": "stream",
     "text": [
      "Invalid Password\n"
     ]
    }
   ],
   "source": [
    "#1\n",
    "def check_password(s):\n",
    "    length=len(s)\n",
    "    loweralpha=0\n",
    "    upperalpha=0\n",
    "    digit=0\n",
    "    sp_char=0\n",
    "    for e in s:\n",
    "        if e.isupper():\n",
    "            upperalpha+=1\n",
    "        elif e.islower():\n",
    "            loweralpha+=1\n",
    "        elif e.isdigit():\n",
    "            digit+=1\n",
    "        elif (ord(e)>32 and ord(e)<48) or (ord(e)>57 and ord(e)<65) or (ord(e)>122 and ord(e)<127):\n",
    "            sp_char+=1\n",
    "    if( loweralpha>1 and upperalpha>1 and digit>0 and sp_char>2 and length==10):\n",
    "        return \"Valid Password\"\n",
    "    else:\n",
    "        return \"Invalid Password\"\n",
    "    \n",
    "            \n",
    "s=input(\"Enter the password\")\n",
    "\n",
    "print(check_password(s))"
   ]
  },
  {
   "cell_type": "code",
   "execution_count": null,
   "id": "20c79740-d7a9-4b90-9b77-0fee28516599",
   "metadata": {},
   "outputs": [],
   "source": [
    "2\n",
    "a\n",
    "s=input(\"Enter the string\")\n",
    "if s[0]==\"m\":\n",
    "    print(\"The string starts with m\")\n",
    "else:\n",
    "     print(\"The string does not start with m\")\n",
    "#b\n",
    "s1=input(\"Enter a string to check if the string is numeric or not\")\n",
    "count=0\n",
    "try:\n",
    "    int(s1)\n",
    "except ValueError:\n",
    "    count=1\n",
    "if count==0:\n",
    "    print(\"String is numeric\")\n",
    "else:\n",
    "     print(\"String is not numeric\")\n",
    "c\n",
    "l2=[(\"mango\",99),(\"orange\",80), (\"grapes\", 1000)]\n",
    "l2.sort()\n",
    "l2\n",
    "#d\n",
    "l1=list(map(lambda y:y**2,(range(1,11))))\n",
    "print(l1)\n",
    "#e\n",
    "l3=list(map(lambda y:y**3,(range(1,11))))\n",
    "print(l3)\n",
    "#f\n",
    "num=int(input(\"Enter the number\"))\n",
    "if num%2==0:\n",
    "    print(\"Is even\")\n",
    "else:\n",
    "    print(\"Not even\")\n",
    "#g\n",
    "l=[1,2,3,4,5,6,7,8,9,10]\n",
    "import functools\n",
    "a=list(filter(lambda x:x if x%2!=0 else None,l))\n",
    "print(a)   \n",
    "#h\n",
    "l=[1,2,3,4,5,6,-1,-2,-3,-4,-5,0]\n",
    "c=[]\n",
    "b=list(filter(lambda i:i if i>0 else c.append(i),l))\n",
    "print(\"Positives are\",b)\n",
    "print(\"Negative are\",c)\n",
    "\n",
    "\n",
    "    "
   ]
  },
  {
   "cell_type": "code",
   "execution_count": null,
   "id": "bfdc87f6-c0dd-4472-8a1a-2b3757bc4039",
   "metadata": {},
   "outputs": [],
   "source": []
  },
  {
   "cell_type": "code",
   "execution_count": null,
   "id": "f9799d83-2744-46f3-8fc7-f1ef35e1f50e",
   "metadata": {},
   "outputs": [],
   "source": []
  }
 ],
 "metadata": {
  "kernelspec": {
   "display_name": "Python 3 (ipykernel)",
   "language": "python",
   "name": "python3"
  },
  "language_info": {
   "codemirror_mode": {
    "name": "ipython",
    "version": 3
   },
   "file_extension": ".py",
   "mimetype": "text/x-python",
   "name": "python",
   "nbconvert_exporter": "python",
   "pygments_lexer": "ipython3",
   "version": "3.10.6"
  }
 },
 "nbformat": 4,
 "nbformat_minor": 5
}
