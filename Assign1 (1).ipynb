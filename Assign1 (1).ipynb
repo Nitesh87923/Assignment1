{
 "cells": [
  {
   "cell_type": "code",
   "execution_count": 2,
   "id": "26379d68-206b-4a63-80cf-a0e9d455016f",
   "metadata": {},
   "outputs": [
    {
     "name": "stdout",
     "output_type": "stream",
     "text": [
      "For loop\n",
      "H\n",
      "e\n",
      "l\n",
      "l\n",
      "o\n",
      " \n",
      "w\n",
      "o\n",
      "r\n",
      "l\n",
      "d\n",
      "While loop\n",
      "3\n",
      "2\n",
      "1\n"
     ]
    }
   ],
   "source": [
    "#1.\n",
    "#for loop:Whenever we have a iterable and we want to access its values we use for loop\n",
    "print(\"For loop\")\n",
    "a=\"Hello world\"\n",
    "for e in a:\n",
    "    print(e)\n",
    "#while loop:Until a condition is met the loop keeps going on.\n",
    "print(\"While loop\")\n",
    "b=3\n",
    "while b:\n",
    "    print(b)\n",
    "    b-=1"
   ]
  },
  {
   "cell_type": "code",
   "execution_count": 7,
   "id": "7df8a269-9c92-4798-bf74-87ce672e21ec",
   "metadata": {},
   "outputs": [
    {
     "name": "stdout",
     "output_type": "stream",
     "text": [
      "Using for loop\n",
      "sum is 55 and product is 3628800\n",
      "Using while loop\n",
      "sum is 55 and product is 3628800\n"
     ]
    }
   ],
   "source": [
    "#2\n",
    "print(\"Using for loop\")\n",
    "total,prod=0,1\n",
    "for e in range(1,11):\n",
    "    total+=e\n",
    "    prod*=e\n",
    "print(\"sum is {t} and product is {p}\".format(t=total,p=prod))  \n",
    "print(\"Using while loop\")\n",
    "count=10\n",
    "total,prod=0,1\n",
    "while count:\n",
    "    total+=count\n",
    "    prod*=count\n",
    "    count-=1\n",
    "print(\"sum is {t} and product is {p}\".format(t=total,p=prod))"
   ]
  },
  {
   "cell_type": "code",
   "execution_count": 11,
   "id": "b62b4e1a-6418-4613-85d3-847965cf03a6",
   "metadata": {},
   "outputs": [
    {
     "name": "stdin",
     "output_type": "stream",
     "text": [
      "Enter the units of electricity consumed in a month 100\n"
     ]
    },
    {
     "name": "stdout",
     "output_type": "stream",
     "text": [
      "bill amount is 450.0\n"
     ]
    }
   ],
   "source": [
    "#3\n",
    "bill_amt=0\n",
    "units=int(input(\"Enter the units of electricity consumed in a month\"))\n",
    "if(units<=100):\n",
    "    bill_amt=units*4.5\n",
    "elif units>100 and units<=200 :\n",
    "    bill_amt=units*6  \n",
    "elif units>200 and units<=300 :\n",
    "    bill_amt=units*10\n",
    "else:\n",
    "     bill_amt=units*20\n",
    "print(\"bill amount is\",bill_amt)        \n",
    "    \n",
    "    \n",
    "\n"
   ]
  },
  {
   "cell_type": "code",
   "execution_count": 5,
   "id": "83eb20b6-9f03-4ced-9956-bec0eefb054a",
   "metadata": {},
   "outputs": [
    {
     "name": "stdout",
     "output_type": "stream",
     "text": [
      "Using for loop  [2, 4, 5, 6, 8, 10, 12, 14, 15, 16, 18, 20, 22, 24, 25, 26, 28, 30, 32, 34, 35, 36, 38, 40, 42, 44, 45, 46, 48, 50, 52, 54, 55, 56, 58, 60, 62, 64, 65, 66, 68, 70, 72, 74, 75, 76, 78, 80, 82, 84, 85, 86, 88, 90, 92, 94, 95, 96, 98, 100]\n",
      "Using while loop  [2, 4, 5, 6, 8, 10, 12, 14, 15, 16, 18, 20, 22, 24, 25, 26, 28, 30, 32, 34, 35, 36, 38, 40, 42, 44, 45, 46, 48, 50, 52, 54, 55, 56, 58, 60, 62, 64, 65, 66, 68, 70, 72, 74, 75, 76, 78, 80, 82, 84, 85, 86, 88, 90, 92, 94, 95, 96, 98, 100]\n"
     ]
    }
   ],
   "source": [
    "#4\n",
    "cube=0\n",
    "count=1\n",
    "l=[]\n",
    "l3=[]\n",
    "l1=list(range(1,101))\n",
    "for i in l1:\n",
    "    cube=i**3\n",
    "    if(cube%4==0 or cube%5==0):\n",
    "        l.append(i)\n",
    "print(\"Using for loop \",l)\n",
    "while count<=100:\n",
    "    cube=count**3\n",
    "    if(cube%4==0 or cube%5==0):\n",
    "          l3.append(count)\n",
    "    count+=1   \n",
    "print(\"Using while loop \",l3)    \n",
    "\n"
   ]
  },
  {
   "cell_type": "code",
   "execution_count": 2,
   "id": "79054827-8ef3-4600-92b4-283e1deb7bfb",
   "metadata": {},
   "outputs": [
    {
     "name": "stdout",
     "output_type": "stream",
     "text": [
      "11\n"
     ]
    }
   ],
   "source": [
    "#5\n",
    "string = \"I want to become a data scientist\"\n",
    "count=0\n",
    "for e in string:\n",
    "    if e=='a' or e=='e' or e=='i' or e=='o' or e=='u':\n",
    "        count+=1\n",
    "print(count)        "
   ]
  },
  {
   "cell_type": "code",
   "execution_count": null,
   "id": "cb69bb39-224a-47d8-a797-95a06a698a17",
   "metadata": {},
   "outputs": [],
   "source": []
  }
 ],
 "metadata": {
  "kernelspec": {
   "display_name": "Python 3 (ipykernel)",
   "language": "python",
   "name": "python3"
  },
  "language_info": {
   "codemirror_mode": {
    "name": "ipython",
    "version": 3
   },
   "file_extension": ".py",
   "mimetype": "text/x-python",
   "name": "python",
   "nbconvert_exporter": "python",
   "pygments_lexer": "ipython3",
   "version": "3.10.6"
  }
 },
 "nbformat": 4,
 "nbformat_minor": 5
}
